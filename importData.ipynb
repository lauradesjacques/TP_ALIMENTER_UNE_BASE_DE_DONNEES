{
 "cells": [
  {
   "cell_type": "markdown",
   "metadata": {},
   "source": [
    "<h1>Partie 1 : Importation de données vers une base de données sql</h1>"
   ]
  },
  {
   "cell_type": "code",
   "execution_count": 11,
   "metadata": {},
   "outputs": [],
   "source": [
    "# IMPORTS NECESSAIRES\n",
    "from dotenv import load_dotenv\n",
    "import pandas as pd\n",
    "import os\n",
    "from sqlalchemy import create_engine\n",
    "from sqlalchemy.ext.declarative import declarative_base\n",
    "from sqlalchemy import Column, Integer, String, Float\n",
    "from sqlalchemy.orm import sessionmaker\n",
    "from sqlalchemy.ext.declarative import declarative_base"
   ]
  },
  {
   "cell_type": "code",
   "execution_count": 12,
   "metadata": {},
   "outputs": [],
   "source": [
    "# CHARGE LES VARIABLES D'ENVIRONNEMENT STOCKEES DANS LE FICHIER .env\n",
    "load_dotenv()\n",
    "host = os.getenv('HOST')"
   ]
  },
  {
   "cell_type": "code",
   "execution_count": 13,
   "metadata": {},
   "outputs": [],
   "source": [
    "# CREATE_ENGINE CREER LA CONNEXION A LA BDD\n",
    "# sert d'interface entre votre application Python et la base de données. Il gère les connexions et l'exécution des requêtes SQL.\n",
    "engine = create_engine(f'mysql+pymysql://laura:Root12345+@{host}:3306/sales')\n",
    "conn = engine.connect()"
   ]
  },
  {
   "cell_type": "code",
   "execution_count": 14,
   "metadata": {},
   "outputs": [],
   "source": [
    "# CREER ET GERE LA SESSION QUI INTERAGIT AVEC LA BDD.\n",
    "# GENERE DES INSTANCES DE SESSIONS CONFIGURE AVEC engine.\n",
    "Session = sessionmaker(bind=engine)\n",
    "session = Session()"
   ]
  },
  {
   "cell_type": "code",
   "execution_count": 15,
   "metadata": {},
   "outputs": [],
   "source": [
    "# LIRE LES CSV\n",
    "clients_df = pd.read_csv('./data-csv/data-csv/clients.csv', delimiter=';')\n",
    "produits_df = pd.read_csv('./data-csv/data-csv/produits_sous-categorie.csv', delimiter=';')\n",
    "ventes_df = pd.read_csv('./data-csv/data-csv/ventes.csv', delimiter=';')"
   ]
  },
  {
   "cell_type": "code",
   "execution_count": 51,
   "metadata": {},
   "outputs": [],
   "source": [
    "# SUPPRIMER LES DOUBLONS BASES SUR LA COLONNE 'client_id' AVANT l'INSERTION DANS LA TABLES clients\n",
    "client_sans_doublons = clients_df.drop_duplicates(subset=['client_id'])"
   ]
  },
  {
   "cell_type": "code",
   "execution_count": 46,
   "metadata": {},
   "outputs": [],
   "source": [
    "# SUPPRIMER LES DOUBLONS BASES SUR LA COLONNE 'product_id' AVANT l'INSERTION DANS LA TABLES produits\n",
    "produits_df_unique = produits_df.drop_duplicates(subset=['product_id'])"
   ]
  },
  {
   "cell_type": "code",
   "execution_count": 48,
   "metadata": {},
   "outputs": [],
   "source": [
    "# SUPPRIMER LES DOUBLONS BASES SUR LA COLONNE 'session_id' AVANT l'INSERTION DANS LA TABLES ventes\n",
    "ventes_df_unique = ventes_df.drop_duplicates(subset=['session_id'])"
   ]
  },
  {
   "cell_type": "code",
   "execution_count": 49,
   "metadata": {},
   "outputs": [
    {
     "name": "stderr",
     "output_type": "stream",
     "text": [
      "/tmp/ipykernel_123599/2530631333.py:1: MovedIn20Warning: The ``declarative_base()`` function is now available as sqlalchemy.orm.declarative_base(). (deprecated since: 2.0) (Background on SQLAlchemy 2.0 at: https://sqlalche.me/e/b8d9)\n",
      "  Base = declarative_base()\n"
     ]
    }
   ],
   "source": [
    "# FONCTION UTILISEE POUR CREER UNE CLASSE DE BASE QUI SERT A DEFINIR LES CLASSES REPRESENTANT LES TABLES DANS LA BDD\n",
    "Base = declarative_base()\n",
    "\n",
    "# JE DEFINIE MAINTENANT LES CLASSES Clients, Produits, Ventes. CHAQUE CLASSE REPRESENTE UNE TABLE DE LA BDD.\n",
    "# LES COLONNES DES TABLES SONT DEFINIES COMME DES ATTRIBUTS DE CLASSE, AVEC LES TYPES DE DONNEES SQL APPROPRIES.\n",
    "class Clients(Base):\n",
    "    __tablename__ = 'clients'\n",
    "    client_id = Column(String(10),primary_key=True )\n",
    "    sex = Column(String(2))\n",
    "    birth = Column(Integer)\n",
    "\n",
    "class Produits(Base):\n",
    "    __tablename__ = 'produits'\n",
    "    product_id = Column(String(10),primary_key=True)\n",
    "    category = Column(String(50))\n",
    "    sub_category = Column(String(50))\n",
    "    price = Column(Float)\n",
    "    stock_quantity = Column(Integer)\n",
    "\n",
    "class Ventes(Base):\n",
    "    __tablename__ = 'ventes'\n",
    "    product_id = Column(String(10))\n",
    "    date = Column(String(50))\n",
    "    session_id = Column(String(50),primary_key=True)\n",
    "    client_id = Column(String(50))\n",
    "    quantity_sold = Column(Integer)\n",
    "\n",
    "# CREATION DES TABLES DEFINIES PAR LES CLASSES DANS LA BDD SI ELLES N'EXISTENT PAS DEJA;\n",
    "Base.metadata.create_all(engine)"
   ]
  },
  {
   "cell_type": "code",
   "execution_count": 50,
   "metadata": {},
   "outputs": [
    {
     "name": "stdout",
     "output_type": "stream",
     "text": [
      "Importation des données terminée.\n"
     ]
    }
   ],
   "source": [
    "try:\n",
    "    # PREPARER LES DONNEES POUR L'INSERTION DANS clients\n",
    "    client_data = [{\n",
    "        'client_id': row[0],\n",
    "        'sex': row[1],\n",
    "        'birth': row[2]\n",
    "    } for index, row in client_sans_doublons.iterrows()]\n",
    "\n",
    "\n",
    "    # PREPARER LES DONNEES POUR L'INSERTION DANS produits\n",
    "    produits_data = [{\n",
    "        'product_id': row[0],\n",
    "        'category': row[1],\n",
    "        'sub_category': row[2],\n",
    "        # Conversion du prix : remplace les virgules par des points et convertir en float\n",
    "        'price': float(str(row[3]).replace(',', '.')),\n",
    "        'stock_quantity': row[4]\n",
    "    } for index, row in produits_df_unique.iterrows()]\n",
    "\n",
    "\n",
    "\n",
    "    # PREPARER LES DONNEES POUR L'INSERTION DANS ventes\n",
    "    ventes_data = [{\n",
    "        'product_id': row[0],\n",
    "        'date': row[1],\n",
    "        'session_id': row[2],\n",
    "        'client_id': row[3],\n",
    "        'quantity_sold': row[4]\n",
    "    } for index, row in ventes_df_unique.iterrows()]\n",
    "\n",
    "    # INSERT LES DONNEES EN MASSE DANS CHAQUE TABLE\n",
    "    session.bulk_insert_mappings(Clients, client_data)\n",
    "    session.bulk_insert_mappings(Produits, produits_data)\n",
    "    session.bulk_insert_mappings(Ventes, ventes_data)\n",
    "\n",
    "    # COMMIT LA SESSION\n",
    "    session.commit()\n",
    "\n",
    "except Exception as e:\n",
    "    # Si une erreur survient, rollback de la session\n",
    "    print(f\"Erreur lors de l'importation des données : {e}\")\n",
    "    session.rollback()\n",
    "\n",
    "finally:\n",
    "    # Fermeture de la session\n",
    "    session.close()\n",
    "\n",
    "print(\"Importation des données terminée.\")\n"
   ]
  }
 ],
 "metadata": {
  "kernelspec": {
   "display_name": "simplon",
   "language": "python",
   "name": "python3"
  },
  "language_info": {
   "codemirror_mode": {
    "name": "ipython",
    "version": 3
   },
   "file_extension": ".py",
   "mimetype": "text/x-python",
   "name": "python",
   "nbconvert_exporter": "python",
   "pygments_lexer": "ipython3",
   "version": "3.8.12"
  }
 },
 "nbformat": 4,
 "nbformat_minor": 2
}
